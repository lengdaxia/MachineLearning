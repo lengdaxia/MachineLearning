{
 "cells": [
  {
   "cell_type": "markdown",
   "metadata": {},
   "source": [
    "### 贝叶斯拼写检查器"
   ]
  },
  {
   "cell_type": "code",
   "execution_count": 12,
   "metadata": {},
   "outputs": [],
   "source": [
    "import re, collections\n",
    "\n",
    "# 将所有的单词小写，并且过滤掉特殊字符，只保存单词\n",
    "def words(text):\n",
    "    return re.findall('[a-z]+',text.lower())"
   ]
  },
  {
   "cell_type": "code",
   "execution_count": 13,
   "metadata": {},
   "outputs": [],
   "source": [
    "# 保存所有的单词的词频的字典，所有的单词默认至少出现1次\n",
    "\n",
    "def train(features):\n",
    "    model = collections.defaultdict(lambda:1)\n",
    "    for f in features:\n",
    "        model[f] += 1\n",
    "    return model"
   ]
  },
  {
   "cell_type": "code",
   "execution_count": 15,
   "metadata": {},
   "outputs": [],
   "source": [
    "NWORDS = train(words(open('./big.txt').read()))"
   ]
  },
  {
   "cell_type": "code",
   "execution_count": 16,
   "metadata": {},
   "outputs": [],
   "source": [
    "alphabet = 'abcdefghijklmnopqrstuvwxyz'"
   ]
  },
  {
   "cell_type": "code",
   "execution_count": 32,
   "metadata": {},
   "outputs": [],
   "source": [
    "# 跟输入单词只有一个编辑距离的单词列表\n",
    "# 编辑距离，单词1和单词2，只需要一次操作（删除，增加，改变某个字母或者交换单词的某两个字母位置）就能变成相同单词\n",
    "def edit1(word):\n",
    "    n = len(word)\n",
    "    delete_word_list = [word[0:i]+word[i+1:] for i in range(n)]\n",
    "    add_word_list = [word[0:i]+c + word[i:] for i in range(n+1) for c in alphabet]\n",
    "    change_word_list = [word[0:i] + c + word[i+1:] for i in range(n) for c in alphabet]\n",
    "    replace_word_list = [word[0:i] + word[i+1] + word[i] + word[i+2:] for i in range(n-1)]\n",
    "    \n",
    "    return set(delete_word_list + add_word_list + change_word_list + replace_word_list)"
   ]
  },
  {
   "cell_type": "code",
   "execution_count": 33,
   "metadata": {},
   "outputs": [],
   "source": [
    "def edit2(word):\n",
    "    return set( e2 for e1 in edit1(word) for e2 in edit1(word) if e2 in NWORDS)"
   ]
  },
  {
   "cell_type": "code",
   "execution_count": 34,
   "metadata": {},
   "outputs": [],
   "source": [
    "def known(words):\n",
    "    return set(w for w in words if w in NWORDS)"
   ]
  },
  {
   "cell_type": "code",
   "execution_count": 35,
   "metadata": {},
   "outputs": [],
   "source": [
    "def correct(word):\n",
    "    candidates = known([word]) or known(edit1(word)) or edit2(word) or [word]\n",
    "    return max(candidates, key= lambda w: NWORDS[w])"
   ]
  },
  {
   "cell_type": "code",
   "execution_count": 36,
   "metadata": {},
   "outputs": [
    {
     "data": {
      "text/plain": [
       "'know'"
      ]
     },
     "execution_count": 36,
     "metadata": {},
     "output_type": "execute_result"
    }
   ],
   "source": [
    "# know\n",
    "correct('knoe')"
   ]
  },
  {
   "cell_type": "code",
   "execution_count": 37,
   "metadata": {},
   "outputs": [
    {
     "data": {
      "text/plain": [
       "'morw'"
      ]
     },
     "execution_count": 37,
     "metadata": {},
     "output_type": "execute_result"
    }
   ],
   "source": [
    "correct('morw')"
   ]
  },
  {
   "cell_type": "code",
   "execution_count": null,
   "metadata": {},
   "outputs": [],
   "source": []
  }
 ],
 "metadata": {
  "kernelspec": {
   "display_name": "Python 3",
   "language": "python",
   "name": "python3"
  },
  "language_info": {
   "codemirror_mode": {
    "name": "ipython",
    "version": 3
   },
   "file_extension": ".py",
   "mimetype": "text/x-python",
   "name": "python",
   "nbconvert_exporter": "python",
   "pygments_lexer": "ipython3",
   "version": "3.7.1"
  }
 },
 "nbformat": 4,
 "nbformat_minor": 2
}
