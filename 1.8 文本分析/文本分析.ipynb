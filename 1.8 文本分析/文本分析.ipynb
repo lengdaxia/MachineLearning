{
 "cells": [
  {
   "cell_type": "markdown",
   "metadata": {},
   "source": [
    "## 基本概念\n",
    "---"
   ]
  },
  {
   "cell_type": "markdown",
   "metadata": {},
   "source": [
    "#### 停用词\n",
    "\n",
    "1. 语料中大量出现的词\n",
    "2. 没啥大用的词\n",
    "\n",
    "eg: 英文的 ‘the’,'and'... 中文的：“一下”，‘一般’"
   ]
  },
  {
   "cell_type": "markdown",
   "metadata": {},
   "source": [
    "#### Tf-idf: 关键词提取\n",
    "- 词频统计（Term Frequency）简称TF\n",
    "- 去掉停用词（“的”，‘是’，‘在’）\n",
    "- 关键词的重要性分析（idf）\n",
    "- 语义分析"
   ]
  },
  {
   "cell_type": "markdown",
   "metadata": {},
   "source": [
    "#### 逆文档频率（Inverse Document Frequency,缩写’IDF‘ ）\n",
    "- 如果某个词比较少见，但是它在这篇文章中多次出现，那么他很可能就反映了这篇文章的特效，正是我们所需要的关键词"
   ]
  },
  {
   "cell_type": "markdown",
   "metadata": {},
   "source": [
    "词频（tf）= $\\frac{某个词在文章中出现的次数}{文章的词汇量 words}$"
   ]
  },
  {
   "cell_type": "markdown",
   "metadata": {},
   "source": [
    "逆文档频率（IDF） = $\\log{(\\frac{语料库的文档总数}{包含该词的文档数+1})}$"
   ]
  },
  {
   "cell_type": "markdown",
   "metadata": {},
   "source": [
    "TF-IDF = 词频（TF）x 逆文档频率（IDF）"
   ]
  },
  {
   "cell_type": "markdown",
   "metadata": {},
   "source": [
    "---\n",
    "### 相似度分析\n",
    "\n",
    "- 步骤：数据预处理->分词-> 语料库 -> 词频-> 词频向量\n",
    "- 余弦相似度：$ cos \\theta = \\frac{AB}{|A||B|}$"
   ]
  },
  {
   "cell_type": "code",
   "execution_count": null,
   "metadata": {},
   "outputs": [],
   "source": []
  }
 ],
 "metadata": {
  "kernelspec": {
   "display_name": "Python 3",
   "language": "python",
   "name": "python3"
  },
  "language_info": {
   "codemirror_mode": {
    "name": "ipython",
    "version": 3
   },
   "file_extension": ".py",
   "mimetype": "text/x-python",
   "name": "python",
   "nbconvert_exporter": "python",
   "pygments_lexer": "ipython3",
   "version": "3.7.1"
  }
 },
 "nbformat": 4,
 "nbformat_minor": 2
}
