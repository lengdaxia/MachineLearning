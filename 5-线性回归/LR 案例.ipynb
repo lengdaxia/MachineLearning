{
 "cells": [
  {
   "cell_type": "markdown",
   "metadata": {},
   "source": [
    "# Logistics Regression\n",
    "---"
   ]
  },
  {
   "cell_type": "markdown",
   "metadata": {},
   "source": [
    "## the data\n",
    " 我们将建立一个逻辑回归模型来预测一个学生是否被大学录取，假设你是大学系的管理员，你想根据两次考试的结果来决定每个申请人的录取机会，你有以前的申请人的历史数据，你可以用它作为逻辑回归的训练集，对于每一个培训例子，你有两们考试的申请人的分数和录取觉得，为了做到这一点，我们将建立一个分类模型，根据考试成绩估计入学概率\n"
   ]
  },
  {
   "cell_type": "code",
   "execution_count": 1,
   "metadata": {},
   "outputs": [
    {
     "name": "stderr",
     "output_type": "stream",
     "text": [
      "/Users/marlonleng/anaconda3/lib/python3.6/importlib/_bootstrap.py:219: RuntimeWarning: numpy.dtype size changed, may indicate binary incompatibility. Expected 96, got 88\n",
      "  return f(*args, **kwds)\n"
     ]
    }
   ],
   "source": [
    "# 三大件\n",
    "import numpy as np\n",
    "import pandas as pd\n",
    "import matplotlib.pyplot as plt\n",
    "\n",
    "%matplotlib inline"
   ]
  },
  {
   "cell_type": "code",
   "execution_count": 9,
   "metadata": {},
   "outputs": [
    {
     "name": "stdout",
     "output_type": "stream",
     "text": [
      "data/LogiReg_data.txt\n"
     ]
    },
    {
     "data": {
      "text/html": [
       "<div>\n",
       "<style scoped>\n",
       "    .dataframe tbody tr th:only-of-type {\n",
       "        vertical-align: middle;\n",
       "    }\n",
       "\n",
       "    .dataframe tbody tr th {\n",
       "        vertical-align: top;\n",
       "    }\n",
       "\n",
       "    .dataframe thead th {\n",
       "        text-align: right;\n",
       "    }\n",
       "</style>\n",
       "<table border=\"1\" class=\"dataframe\">\n",
       "  <thead>\n",
       "    <tr style=\"text-align: right;\">\n",
       "      <th></th>\n",
       "      <th>Exam 1</th>\n",
       "      <th>Exam 2</th>\n",
       "      <th>Admitted</th>\n",
       "    </tr>\n",
       "  </thead>\n",
       "  <tbody>\n",
       "    <tr>\n",
       "      <th>0</th>\n",
       "      <td>34.623660</td>\n",
       "      <td>78.024693</td>\n",
       "      <td>0</td>\n",
       "    </tr>\n",
       "    <tr>\n",
       "      <th>1</th>\n",
       "      <td>30.286711</td>\n",
       "      <td>43.894998</td>\n",
       "      <td>0</td>\n",
       "    </tr>\n",
       "    <tr>\n",
       "      <th>2</th>\n",
       "      <td>35.847409</td>\n",
       "      <td>72.902198</td>\n",
       "      <td>0</td>\n",
       "    </tr>\n",
       "    <tr>\n",
       "      <th>3</th>\n",
       "      <td>60.182599</td>\n",
       "      <td>86.308552</td>\n",
       "      <td>1</td>\n",
       "    </tr>\n",
       "    <tr>\n",
       "      <th>4</th>\n",
       "      <td>79.032736</td>\n",
       "      <td>75.344376</td>\n",
       "      <td>1</td>\n",
       "    </tr>\n",
       "  </tbody>\n",
       "</table>\n",
       "</div>"
      ],
      "text/plain": [
       "      Exam 1     Exam 2  Admitted\n",
       "0  34.623660  78.024693         0\n",
       "1  30.286711  43.894998         0\n",
       "2  35.847409  72.902198         0\n",
       "3  60.182599  86.308552         1\n",
       "4  79.032736  75.344376         1"
      ]
     },
     "execution_count": 9,
     "metadata": {},
     "output_type": "execute_result"
    }
   ],
   "source": [
    "import os\n",
    "\n",
    "path = 'data' + os.sep + 'LogiReg_data.txt'\n",
    "print(path)\n",
    "pdData = pd.read_csv(path,header=None,names=['Exam 1','Exam 2','Admitted'])\n",
    "pdData.head()"
   ]
  },
  {
   "cell_type": "code",
   "execution_count": 10,
   "metadata": {},
   "outputs": [
    {
     "data": {
      "text/plain": [
       "(100, 3)"
      ]
     },
     "execution_count": 10,
     "metadata": {},
     "output_type": "execute_result"
    }
   ],
   "source": [
    "pdData.shape"
   ]
  },
  {
   "cell_type": "code",
   "execution_count": 14,
   "metadata": {},
   "outputs": [
    {
     "data": {
      "text/plain": [
       "Text(0,0.5,'Exam 2 score')"
      ]
     },
     "execution_count": 14,
     "metadata": {},
     "output_type": "execute_result"
    },
    {
     "data": {
      "image/png": "[encoded data removed]",
      "text/plain": [
       "<Figure size 720x360 with 1 Axes>"
      ]
     },
     "metadata": {},
     "output_type": "display_data"
    }
   ],
   "source": [
    "positive = pdData[pdData['Admitted'] == 1]\n",
    "negative = pdData[pdData['Admitted'] == 0]\n",
    "\n",
    "fig,ax = plt.subplots(figsize=(10,5))\n",
    "ax.scatter(positive['Exam 1'],positive['Exam 2'],s=30,c='b',marker='o',label='Admitted')\n",
    "ax.scatter(negative['Exam 1'],negative['Exam 2'],s=30,c='r',marker='x',label='Not admitted')\n",
    "ax.legend()\n",
    "ax.set_xlabel('Exam 1 Score')\n",
    "ax.set_ylabel('Exam 2 score')\n"
   ]
  },
  {
   "cell_type": "markdown",
   "metadata": {},
   "source": [
    "## The logistic regression\n",
    " 目标：建立分类器，（求解出三个参数 $\\theta_1,\\theta_2,\\theta_3$）\n",
    " \n",
    " 设定阈值，根据阈值判断录取结果\n",
    " \n",
    " ### 要完成的模块\n",
    " - sigmod：映射到概率的函数\n",
    " - model：返回预测结果值\n",
    " - cost：目标函数\n",
    " - gradient：计算每个参数的梯度方向\n",
    " - descend：进行参数更新\n",
    " - accuracy：计算精度"
   ]
  },
  {
   "cell_type": "markdown",
   "metadata": {},
   "source": [
    "#### sigmoid 函数   \n",
    "## $g(Z) = \\frac{1}{1+e^\\left(-Z\\right)}$"
   ]
  },
  {
   "cell_type": "code",
   "execution_count": 15,
   "metadata": {},
   "outputs": [],
   "source": [
    "def sigmod(z):\n",
    "    return 1/(1+np.exp(-z))"
   ]
  },
  {
   "cell_type": "code",
   "execution_count": 17,
   "metadata": {},
   "outputs": [
    {
     "data": {
      "text/plain": [
       "[<matplotlib.lines.Line2D at 0x120d9e780>]"
      ]
     },
     "execution_count": 17,
     "metadata": {},
     "output_type": "execute_result"
    },
    {
     "data": {
      "image/png": "[encoded data removed]",
      "text/plain": [
       "<Figure size 864x288 with 1 Axes>"
      ]
     },
     "metadata": {},
     "output_type": "display_data"
    }
   ],
   "source": [
    "nums = np.arange(-10,10,step=1)\n",
    "fig ,ax = plt.subplots(figsize=(12,4))\n",
    "ax.plot(nums,sigmod(nums),c='r')"
   ]
  },
  {
   "cell_type": "markdown",
   "metadata": {},
   "source": [
    "## Sigmod\n",
    "- g:R-> [0,1]\n",
    "- g(0) = 0.5\n",
    "- g(-$\\infty$) = 0\n",
    "- g(+$\\infty$) = 1"
   ]
  },
  {
   "cell_type": "markdown",
   "metadata": {},
   "source": [
    "# model"
   ]
  },
  {
   "cell_type": "code",
   "execution_count": 29,
   "metadata": {},
   "outputs": [],
   "source": [
    "def model(X,theta):\n",
    "    return sigmod(np.dot(X,theta.T))"
   ]
  },
  {
   "cell_type": "markdown",
   "metadata": {},
   "source": [
    "$(\\theta_1,\\theta_2,\\theta_3) *\\left(\\begin {matrix} 1 \\\\x_1\\\\x_2 \\end{matrix}\\right) = \\theta_0+\\theta_1x1+\\theta_2x2$"
   ]
  },
  {
   "cell_type": "code",
   "execution_count": 22,
   "metadata": {},
   "outputs": [
    {
     "name": "stderr",
     "output_type": "stream",
     "text": [
      "/Users/marlonleng/anaconda3/lib/python3.6/site-packages/ipykernel_launcher.py:4: FutureWarning: Method .as_matrix will be removed in a future version. Use .values instead.\n",
      "  after removing the cwd from sys.path.\n"
     ]
    }
   ],
   "source": [
    "pdData.insert(0,'Ones',1)\n",
    "\n",
    "# \n",
    "orig_data = pdData.as_matrix()\n",
    "cols = orig_data.shape[1]\n",
    "X = orig_data[:,0:cols-1]\n",
    "y = orig_data[:,cols-1:cols]\n",
    "\n",
    "theta = np.zeros([1,3])"
   ]
  },
  {
   "cell_type": "code",
   "execution_count": 23,
   "metadata": {},
   "outputs": [
    {
     "data": {
      "text/plain": [
       "array([[ 1.        , 34.62365962, 78.02469282],\n",
       "       [ 1.        , 30.28671077, 43.89499752],\n",
       "       [ 1.        , 35.84740877, 72.90219803],\n",
       "       [ 1.        , 60.18259939, 86.3085521 ],\n",
       "       [ 1.        , 79.03273605, 75.34437644]])"
      ]
     },
     "execution_count": 23,
     "metadata": {},
     "output_type": "execute_result"
    }
   ],
   "source": [
    "X[:5]"
   ]
  },
  {
   "cell_type": "code",
   "execution_count": 24,
   "metadata": {},
   "outputs": [
    {
     "data": {
      "text/plain": [
       "array([[0.],\n",
       "       [0.],\n",
       "       [0.],\n",
       "       [1.],\n",
       "       [1.]])"
      ]
     },
     "execution_count": 24,
     "metadata": {},
     "output_type": "execute_result"
    }
   ],
   "source": [
    "y[:5]"
   ]
  },
  {
   "cell_type": "code",
   "execution_count": 25,
   "metadata": {},
   "outputs": [
    {
     "data": {
      "text/plain": [
       "array([[0., 0., 0.]])"
      ]
     },
     "execution_count": 25,
     "metadata": {},
     "output_type": "execute_result"
    }
   ],
   "source": [
    "theta"
   ]
  },
  {
   "cell_type": "code",
   "execution_count": 26,
   "metadata": {},
   "outputs": [
    {
     "data": {
      "text/plain": [
       "((100, 3), (100, 1), (1, 3))"
      ]
     },
     "execution_count": 26,
     "metadata": {},
     "output_type": "execute_result"
    }
   ],
   "source": [
    "X.shape,y.shape,theta.shape"
   ]
  },
  {
   "cell_type": "markdown",
   "metadata": {},
   "source": [
    "### 损失函数\n",
    "将对数似然函数去负号\n",
    "### $D(h_0(x),y) = -y\\log(h_0(x)) - (1-y)\\log(1-h_0(x))$\n",
    "\n",
    "求平均损失\n",
    "### $J(\\theta) = \\frac {1}{n} \\sum_\\left(i=1\\right)^n\\ D(h_0(x_i),y_i)$"
   ]
  },
  {
   "cell_type": "code",
   "execution_count": 30,
   "metadata": {},
   "outputs": [],
   "source": [
    "def cost(X,y,theta):\n",
    "    left = np.multiply(-y,np.log(model(X,theta)))\n",
    "    right = np.multiply(1-y,np.log(1- model(X,theta)))\n",
    "    return np.sum(left-right)/len(X)"
   ]
  },
  {
   "cell_type": "code",
   "execution_count": 31,
   "metadata": {},
   "outputs": [
    {
     "data": {
      "text/plain": [
       "0.6931471805599453"
      ]
     },
     "execution_count": 31,
     "metadata": {},
     "output_type": "execute_result"
    }
   ],
   "source": [
    "cost(X,y,theta)"
   ]
  },
  {
   "cell_type": "markdown",
   "metadata": {},
   "source": [
    "# 计算梯度"
   ]
  },
  {
   "cell_type": "markdown",
   "metadata": {},
   "source": [
    "### $\\frac {\\partial J}{\\partial \\theta_j} = - \\frac {1}{m} \\sum_\\left(i=1\\right)^m (y_i- h_0(x_i))x_\\left(ij\\right)$"
   ]
  },
  {
   "cell_type": "code",
   "execution_count": 32,
   "metadata": {},
   "outputs": [],
   "source": [
    "def gradient(X,y,theta):\n",
    "    grad = np.zeros(theta.shape)\n",
    "    error = (model(X,theta) - y).ravel()\n",
    "    for j in range(len(theta.ravel())):\n",
    "        term = np.multiply(error,X[:,j])\n",
    "        grad[0,j] = np.sum(term)/len(X)\n",
    "    return grad"
   ]
  },
  {
   "cell_type": "markdown",
   "metadata": {},
   "source": [
    "# Gradient descent\n",
    "比较三种不同的梯度下降方法"
   ]
  },
  {
   "cell_type": "code",
   "execution_count": 2,
   "metadata": {},
   "outputs": [],
   "source": [
    "# 迭代次数\n",
    "STOP_ITER = 0\n",
    "# 损失函数的下降阈值\n",
    "STOP_COST = 1\n",
    "# 梯度变化率较\n",
    "STOP_GRAD = 2\n",
    "\n",
    "def stopCriterion(type,value,threshold):\n",
    "#     设定三种不同的停止策略\n",
    "    if type == STOP_ITER: return value > threshold\n",
    "    elif type == STOP_COST: return abs(value[-1]- value[-2]) < threshold\n",
    "    elif type == STOP_GRAD: return np.linalg.norm(value) < threshold"
   ]
  },
  {
   "cell_type": "code",
   "execution_count": 1,
   "metadata": {},
   "outputs": [],
   "source": [
    "import numpy.random\n",
    "\n",
    "def shuffleData(data):\n",
    "    np.random.shuffle(data)\n",
    "    cols = data.shape[1]\n",
    "    X = data[:,0:cols-1]\n",
    "    y = data[:,cols-1,]\n",
    "    return X,y"
   ]
  },
  {
   "cell_type": "code",
   "execution_count": 3,
   "metadata": {},
   "outputs": [],
   "source": [
    "import time\n",
    "def descent(data,theta,batchSize,stoptype,thresh,alpha):\n",
    "    init_time = time.time()\n",
    "\n",
    "    i = 0  #迭代次数\n",
    "    k= 0  #  batch\n",
    "    X,y = shuffleData(data)\n",
    "    grad = np.zeros(theta.shape) #计算的梯度\n",
    "    costs = [cost(X,y,theta)]  #损失值\n",
    "    \n",
    "    while True:\n",
    "        grad = gradient(X[k:k+batchSize],y[k:k+batchSize],theta)\n",
    "        k += batchSize\n",
    "        if k > n:\n",
    "            k = 0\n",
    "            X,y = shuffleData(data)\n",
    "        theta = theta - alpha*grad  #更新参数\n",
    "        costs.append(cost(X,y,theta))\n",
    "        i += 1\n",
    "        if stoptype == STOP_ITER: value = i\n",
    "        elif stoptype == STOP_COST: value = costs\n",
    "        elif stoptype == STOP_GRAD: value = grad\n",
    "        if stopCriterion(stoptype,value,threshold=thresh):break\n",
    "    return theta,i-1,costs,time.time()-init_time\n"
   ]
  },
  {
   "cell_type": "code",
   "execution_count": null,
   "metadata": {},
   "outputs": [],
   "source": [
    "def runExoe(data,theta,batchSize,stopType,thresh,alpha):\n",
    "    theta,iters,costs,duration = descent(data,theta,batchSize,stopType,thresh,alpha)\n",
    "    \n",
    "    name = \"Original\" if (data[:,1] > 2).sum() > 1 else \"Scaled\"\n",
    "    name += 'data - learning rate:{}'.fromat(alpha)\n",
    "    if batchSize == n:strDesctype = 'Gradient'\n",
    "    elif batchSize == 1:strDesctype = 'Stochastic'\n",
    "    else strDesctype = 'Mini-batch ({})'.format(batchSize)\n",
    "    \n",
    "    name += strDesctype + 'descent - Stop'\n",
    "    \n",
    "    if stopType == STOP_ITER:strStop = \"{} iterations\".format(iters)\n",
    "    elif stopType == STOP_COST:strStop = \"cost change < {}\".format(thresh)\n",
    "    else strStop = \"gradient norm < {}\".format(thresh)\n",
    "    \n",
    "    name += strStop\n",
    "    \n",
    "    print(\"***{} \\ n Theta:{} - Iter:{} - Last cost:{:03.2f} - Duration:{}\".format(name,theta,iters,costs[-1],duration))\n",
    "    \n",
    "    fig,ax = plt.subplots(figsize=(12,4))\n",
    "    ax.plot(np.arange(len(costs),costs,'r'))\n",
    "    ax.set_xlabel('Iteration')\n",
    "    ax.set_ylabel('Cost')\n",
    "    ax.set_title(name.upper() + '- Error vs. Iteration')\n",
    "    return theta\n",
    "    \n",
    "\n"
   ]
  },
  {
   "cell_type": "code",
   "execution_count": null,
   "metadata": {},
   "outputs": [],
   "source": []
  },
  {
   "cell_type": "code",
   "execution_count": null,
   "metadata": {},
   "outputs": [],
   "source": []
  },
  {
   "cell_type": "code",
   "execution_count": null,
   "metadata": {},
   "outputs": [],
   "source": []
  }
 ],
 "metadata": {
  "kernelspec": {
   "display_name": "Python 3",
   "language": "python",
   "name": "python3"
  },
  "language_info": {
   "codemirror_mode": {
    "name": "ipython",
    "version": 3
   },
   "file_extension": ".py",
   "mimetype": "text/x-python",
   "name": "python",
   "nbconvert_exporter": "python",
   "pygments_lexer": "ipython3",
   "version": "3.6.5"
  }
 },
 "nbformat": 4,
 "nbformat_minor": 2
}
