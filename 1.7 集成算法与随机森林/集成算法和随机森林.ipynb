{
 "cells": [
  {
   "cell_type": "markdown",
   "metadata": {},
   "source": [
    "### 集成算法\n",
    "---\n",
    "目的：让机器学习的效果更好，单个的不行，群殴上\n",
    "\n",
    "- Bagging: 训练多个分类器取平均 \n",
    "$f(x) = \\frac{1}{m} \\sum_{m=1}^M f_m(x)$\n",
    "   - 并行训练一堆分类器\n",
    "   - 全称：boostrap aggregation\n",
    "   - 典型代表：随机森林\n",
    "   - 随机：数据采样随机，特征选择随机\n",
    "   - 森林：很多个决策树并行的放在一起\n",
    "   \n",
    "   - 随机森林的优点：\n",
    "       - 能够处理很高维的数据，并且不用做特征选择\n",
    "       - 在训练完成之后，能够给出feature比较重要\n",
    "       - 容易做成并行化方法，速度比较快\n",
    "       - 进行可视化展示，便于分析\n",
    "   - 特征重要性：\n",
    "       - 将对应的特征的某列，使用随机值替换掉，得出新的err1，与原来的err0对比\n",
    "       "
   ]
  },
  {
   "cell_type": "markdown",
   "metadata": {},
   "source": [
    "- Boosting:从弱学习器开始加强，通过加权来进行训练\n",
    "$F_m(x)= F_{m-1}(x) + argmin_{N} \\sum_{i=1}^n L(y_i,F_{m-1}(x_i)+h(x_i))$\n",
    "   - 全称：使用残差训练，串行算法。\n",
    "   - 典型代表：AdaBoost, Xgboost\n",
    "   - AdBoost：根据前一次的分类效果调整数据权重\n",
    "   - 解释：如果某个数据在这一次分错了，那么在下次会给它更大的权重\n",
    "   - 最终的结果：每个分类器根据自身的准确性来确定各自的权重，再合体"
   ]
  },
  {
   "cell_type": "markdown",
   "metadata": {},
   "source": [
    "- Stacking: 聚合多个分类或者回归模型（可以分阶段做）\n",
    "   - 堆叠：各种类型的分类器，堆在一起\n",
    "   - 可以堆叠各种各样的分类器（KNN，SVM，RF等等）\n",
    "   - 将各个分类器的输出，当成 最后"
   ]
  },
  {
   "cell_type": "code",
   "execution_count": null,
   "metadata": {},
   "outputs": [],
   "source": [
    "\n"
   ]
  },
  {
   "cell_type": "code",
   "execution_count": null,
   "metadata": {},
   "outputs": [],
   "source": []
  },
  {
   "cell_type": "code",
   "execution_count": null,
   "metadata": {},
   "outputs": [],
   "source": []
  },
  {
   "cell_type": "code",
   "execution_count": null,
   "metadata": {},
   "outputs": [],
   "source": []
  },
  {
   "cell_type": "code",
   "execution_count": null,
   "metadata": {},
   "outputs": [],
   "source": []
  }
 ],
 "metadata": {
  "kernelspec": {
   "display_name": "Python 3",
   "language": "python",
   "name": "python3"
  },
  "language_info": {
   "codemirror_mode": {
    "name": "ipython",
    "version": 3
   },
   "file_extension": ".py",
   "mimetype": "text/x-python",
   "name": "python",
   "nbconvert_exporter": "python",
   "pygments_lexer": "ipython3",
   "version": "3.7.1"
  }
 },
 "nbformat": 4,
 "nbformat_minor": 2
}
