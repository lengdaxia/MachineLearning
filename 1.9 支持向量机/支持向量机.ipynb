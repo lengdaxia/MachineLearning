{
 "cells": [
  {
   "cell_type": "markdown",
   "metadata": {},
   "source": [
    "### 支持向量机 support vector machine\n",
    "---"
   ]
  },
  {
   "cell_type": "markdown",
   "metadata": {},
   "source": [
    "概念：\n",
    "\n",
    "- 距离：\n",
    "- 支持向量：\n",
    "- 找出一条线（w和b）,使得离这条线最近的所有点的距离之和最远\n"
   ]
  },
  {
   "cell_type": "markdown",
   "metadata": {},
   "source": [
    "数据标签定义\n",
    "\n",
    "1. 数据集：（x1,y1）(x2,y2),(x3,y3)\n",
    "2. Y为样本的类别：当X为正例的时候，Y=+1, 当X为负例的时候 Y=-1\n",
    "3. 决策方程：\n",
    "$y(x) = W^T\\Phi(x) + b$\n",
    "\n",
    "$y_i y(x_i) >>0$"
   ]
  },
  {
   "cell_type": "markdown",
   "metadata": {},
   "source": [
    "点到直线的距离化简得：\n",
    "$\\frac{y_i(w^t \\Phi(x_i)+b)}{||w||}$"
   ]
  },
  {
   "cell_type": "markdown",
   "metadata": {},
   "source": [
    "目标函数：\n",
    "\n",
    "放缩变换：对于决策方程（w,b）可以通过放缩使得其结果值 |Y| >=1\n",
    "优化目标：\n",
    "$arg\\ max_{w，b} $"
   ]
  },
  {
   "cell_type": "code",
   "execution_count": null,
   "metadata": {},
   "outputs": [],
   "source": []
  }
 ],
 "metadata": {
  "kernelspec": {
   "display_name": "Python 3",
   "language": "python",
   "name": "python3"
  },
  "language_info": {
   "codemirror_mode": {
    "name": "ipython",
    "version": 3
   },
   "file_extension": ".py",
   "mimetype": "text/x-python",
   "name": "python",
   "nbconvert_exporter": "python",
   "pygments_lexer": "ipython3",
   "version": "3.7.1"
  }
 },
 "nbformat": 4,
 "nbformat_minor": 2
}
